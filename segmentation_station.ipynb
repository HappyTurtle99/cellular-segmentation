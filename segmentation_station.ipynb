{
 "cells": [
  {
   "cell_type": "code",
   "execution_count": 1,
   "metadata": {
    "colab": {
     "base_uri": "https://localhost:8080/"
    },
    "id": "NJQ6Y8M2Z1ft",
    "outputId": "9aed070b-dbf0-4781-c666-aa02d8e4ed8c"
   },
   "outputs": [
    {
     "name": "stdout",
     "output_type": "stream",
     "text": [
      "Collecting cellpose\n",
      "  Using cached cellpose-3.0.7-py3-none-any.whl.metadata (23 kB)\n",
      "Requirement already satisfied: numpy>=1.20.0 in /opt/anaconda3/lib/python3.11/site-packages (from cellpose) (1.26.4)\n",
      "Requirement already satisfied: scipy in /opt/anaconda3/lib/python3.11/site-packages (from cellpose) (1.11.4)\n",
      "Collecting natsort (from cellpose)\n",
      "  Using cached natsort-8.4.0-py3-none-any.whl.metadata (21 kB)\n",
      "Requirement already satisfied: tifffile in /opt/anaconda3/lib/python3.11/site-packages (from cellpose) (2023.4.12)\n",
      "Requirement already satisfied: tqdm in /opt/anaconda3/lib/python3.11/site-packages (from cellpose) (4.65.0)\n",
      "Requirement already satisfied: numba>=0.53.0 in /opt/anaconda3/lib/python3.11/site-packages (from cellpose) (0.59.0)\n",
      "Requirement already satisfied: llvmlite in /opt/anaconda3/lib/python3.11/site-packages (from cellpose) (0.42.0)\n",
      "Collecting torch>=1.6 (from cellpose)\n",
      "  Using cached torch-2.2.2-cp311-none-macosx_11_0_arm64.whl.metadata (25 kB)\n",
      "Collecting opencv-python-headless (from cellpose)\n",
      "  Using cached opencv_python_headless-4.9.0.80-cp37-abi3-macosx_11_0_arm64.whl.metadata (20 kB)\n",
      "Collecting fastremap (from cellpose)\n",
      "  Using cached fastremap-1.14.1-cp311-cp311-macosx_10_9_universal2.whl.metadata (9.7 kB)\n",
      "Requirement already satisfied: imagecodecs in /opt/anaconda3/lib/python3.11/site-packages (from cellpose) (2023.1.23)\n",
      "Collecting roifile (from cellpose)\n",
      "  Using cached roifile-2024.3.20-py3-none-any.whl.metadata (4.6 kB)\n",
      "Requirement already satisfied: filelock in /opt/anaconda3/lib/python3.11/site-packages (from torch>=1.6->cellpose) (3.13.1)\n",
      "Requirement already satisfied: typing-extensions>=4.8.0 in /opt/anaconda3/lib/python3.11/site-packages (from torch>=1.6->cellpose) (4.9.0)\n",
      "Requirement already satisfied: sympy in /opt/anaconda3/lib/python3.11/site-packages (from torch>=1.6->cellpose) (1.12)\n",
      "Requirement already satisfied: networkx in /opt/anaconda3/lib/python3.11/site-packages (from torch>=1.6->cellpose) (3.1)\n",
      "Requirement already satisfied: jinja2 in /opt/anaconda3/lib/python3.11/site-packages (from torch>=1.6->cellpose) (3.1.3)\n",
      "Requirement already satisfied: fsspec in /opt/anaconda3/lib/python3.11/site-packages (from torch>=1.6->cellpose) (2023.10.0)\n",
      "Requirement already satisfied: MarkupSafe>=2.0 in /opt/anaconda3/lib/python3.11/site-packages (from jinja2->torch>=1.6->cellpose) (2.1.3)\n",
      "Requirement already satisfied: mpmath>=0.19 in /opt/anaconda3/lib/python3.11/site-packages (from sympy->torch>=1.6->cellpose) (1.3.0)\n",
      "Using cached cellpose-3.0.7-py3-none-any.whl (204 kB)\n",
      "Using cached torch-2.2.2-cp311-none-macosx_11_0_arm64.whl (59.7 MB)\n",
      "Using cached fastremap-1.14.1-cp311-cp311-macosx_10_9_universal2.whl (1.5 MB)\n",
      "Using cached natsort-8.4.0-py3-none-any.whl (38 kB)\n",
      "Using cached opencv_python_headless-4.9.0.80-cp37-abi3-macosx_11_0_arm64.whl (35.4 MB)\n",
      "Using cached roifile-2024.3.20-py3-none-any.whl (16 kB)\n",
      "Installing collected packages: roifile, opencv-python-headless, natsort, fastremap, torch, cellpose\n",
      "Successfully installed cellpose-3.0.7 fastremap-1.14.1 natsort-8.4.0 opencv-python-headless-4.9.0.80 roifile-2024.3.20 torch-2.2.2\n"
     ]
    }
   ],
   "source": [
    "!pip install cellpose"
   ]
  },
  {
   "cell_type": "code",
   "execution_count": 3,
   "metadata": {},
   "outputs": [],
   "source": [
    "!pip freeze > requirements_pip.txt"
   ]
  },
  {
   "cell_type": "code",
   "execution_count": 1,
   "metadata": {},
   "outputs": [
    {
     "name": "stdout",
     "output_type": "stream",
     "text": [
      "/opt/anaconda3/condabin/conda\n"
     ]
    }
   ],
   "source": [
    "!which conda"
   ]
  },
  {
   "cell_type": "code",
   "execution_count": 2,
   "metadata": {
    "colab": {
     "base_uri": "https://localhost:8080/"
    },
    "id": "gwiJxMCXbfjP",
    "outputId": "f59a5ac5-995a-4d56-a1f5-06e4cb16c953"
   },
   "outputs": [
    {
     "name": "stdout",
     "output_type": "stream",
     "text": [
      "Collecting opencv-python-headless<4.3\n",
      "  Downloading opencv_python_headless-3.4.18.65-cp37-abi3-macosx_11_0_arm64.whl.metadata (18 kB)\n",
      "Requirement already satisfied: numpy>=1.21.2 in /opt/anaconda3/lib/python3.11/site-packages (from opencv-python-headless<4.3) (1.26.4)\n",
      "Downloading opencv_python_headless-3.4.18.65-cp37-abi3-macosx_11_0_arm64.whl (28.2 MB)\n",
      "\u001b[2K   \u001b[90m━━━━━━━━━━━━━━━━━━━━━━━━━━━━━━━━━━━━━━━━\u001b[0m \u001b[32m28.2/28.2 MB\u001b[0m \u001b[31m4.2 MB/s\u001b[0m eta \u001b[36m0:00:00\u001b[0m00:01\u001b[0m00:01\u001b[0m\n",
      "\u001b[?25hInstalling collected packages: opencv-python-headless\n",
      "  Attempting uninstall: opencv-python-headless\n",
      "    Found existing installation: opencv-python-headless 4.9.0.80\n",
      "    Uninstalling opencv-python-headless-4.9.0.80:\n",
      "      Successfully uninstalled opencv-python-headless-4.9.0.80\n",
      "Successfully installed opencv-python-headless-3.4.18.65\n"
     ]
    }
   ],
   "source": [
    "!pip install \"opencv-python-headless<4.3\""
   ]
  },
  {
   "cell_type": "code",
   "execution_count": 3,
   "metadata": {
    "id": "6d5CVzQQTOs6"
   },
   "outputs": [],
   "source": [
    "import numpy as np\n",
    "import matplotlib.pyplot as plt\n",
    "from cellpose import models, io\n",
    "from cellpose.io import imread"
   ]
  },
  {
   "cell_type": "code",
   "execution_count": null,
   "metadata": {
    "id": "dRFls9nbVmF5"
   },
   "outputs": [],
   "source": [
    "#probably will want something like this for .py version\n",
    "import os\n",
    "import sys\n",
    "\n",
    "dirpath = sys.path[0]\n",
    "os.chdir(dirpath)"
   ]
  },
  {
   "cell_type": "code",
   "execution_count": 4,
   "metadata": {
    "id": "kwk3079HVJfl"
   },
   "outputs": [
    {
     "ename": "FileNotFoundError",
     "evalue": "[Errno 2] No such file or directory: '/content/drive/MyDrive/Kexin and Santi work/Santiago Arcecarpio - Severity of Psoriasis across 300 Kaggle/Segmentation'",
     "output_type": "error",
     "traceback": [
      "\u001b[0;31m---------------------------------------------------------------------------\u001b[0m",
      "\u001b[0;31mFileNotFoundError\u001b[0m                         Traceback (most recent call last)",
      "Cell \u001b[0;32mIn[4], line 4\u001b[0m\n\u001b[1;32m      1\u001b[0m \u001b[38;5;28;01mimport\u001b[39;00m \u001b[38;5;21;01mos\u001b[39;00m\n\u001b[1;32m      2\u001b[0m \u001b[38;5;28;01mimport\u001b[39;00m \u001b[38;5;21;01msys\u001b[39;00m\n\u001b[0;32m----> 4\u001b[0m os\u001b[38;5;241m.\u001b[39mchdir(\u001b[38;5;124m'\u001b[39m\u001b[38;5;124m/content/drive/MyDrive/Kexin and Santi work/Santiago Arcecarpio - Severity of Psoriasis across 300 Kaggle/Segmentation\u001b[39m\u001b[38;5;124m'\u001b[39m)\n",
      "\u001b[0;31mFileNotFoundError\u001b[0m: [Errno 2] No such file or directory: '/content/drive/MyDrive/Kexin and Santi work/Santiago Arcecarpio - Severity of Psoriasis across 300 Kaggle/Segmentation'"
     ]
    }
   ],
   "source": [
    "#this is for colab version\n",
    "import os\n",
    "import sys\n",
    "\n",
    "# YOU MIGHT HAVE TO CHANGE THIS PATH, DEPENDING ON WHERE YOU DOWNLAOD THIS\n",
    "dirpath = '/content/drive/MyDrive/Kexin and Santi work/Santiago Arcecarpio - Severity of Psoriasis across 300 Kaggle/Segmentation'\n",
    "os.chdir(dirpath)"
   ]
  },
  {
   "cell_type": "code",
   "execution_count": 40,
   "metadata": {},
   "outputs": [
    {
     "data": {
      "text/plain": [
       "True"
      ]
     },
     "execution_count": 40,
     "metadata": {},
     "output_type": "execute_result"
    }
   ],
   "source": [
    "dirpath = 'Desktop/repos/cellular segmentation'"
   ]
  },
  {
   "cell_type": "code",
   "execution_count": 36,
   "metadata": {},
   "outputs": [
    {
     "data": {
      "text/plain": [
       "['IMG_3403.png', 'IMG_3402.png']"
      ]
     },
     "execution_count": 36,
     "metadata": {},
     "output_type": "execute_result"
    }
   ],
   "source": [
    "#gets lists of file names ignoring hidden files eg '.foo.txt'\n",
    "\n",
    "files = os.listdir(dirpath+'/Images')\n",
    "for file in files:\n",
    "    if file[0] == '.':\n",
    "        files.remove(file)\n",
    "files"
   ]
  },
  {
   "cell_type": "code",
   "execution_count": 16,
   "metadata": {
    "colab": {
     "base_uri": "https://localhost:8080/"
    },
    "id": "4Z3s5yXZToF5",
    "outputId": "44de3649-884e-4900-b6a7-65d060fac595"
   },
   "outputs": [
    {
     "name": "stdout",
     "output_type": "stream",
     "text": [
      "2024-04-17 00:06:51,740 [INFO] WRITING LOG OUTPUT TO /Users/sarce/.cellpose/run.log\n",
      "2024-04-17 00:06:51,742 [INFO] \n",
      "cellpose version: \t3.0.7 \n",
      "platform:       \tdarwin \n",
      "python version: \t3.11.7 \n",
      "torch version:  \t2.2.2\n",
      "2024-04-17 00:06:51,743 [INFO] >>>> using CPU\n",
      "2024-04-17 00:06:51,744 [INFO] >> cyto3 << model set to be used\n",
      "2024-04-17 00:06:51,745 [INFO] WARNING: MKL version on torch not working/installed - CPU version will be slightly slower.\n",
      "2024-04-17 00:06:51,745 [INFO] see https://pytorch.org/docs/stable/backends.html?highlight=mkl\n",
      "2024-04-17 00:06:51,859 [INFO] >>>> model diam_mean =  30.000 (ROIs rescaled to this size during training)\n",
      "2024-04-17 00:06:52,014 [INFO] channels set to [0, 0]\n",
      "2024-04-17 00:06:52,015 [INFO] ~~~ FINDING MASKS ~~~\n",
      "2024-04-17 00:06:52,016 [INFO] 0%|          | 0/2 [00:00<?, ?it/s]\n",
      "2024-04-17 00:07:59,507 [INFO] 50%|#####     | 1/2 [01:07<01:07, 67.49s/it]\n",
      "2024-04-17 00:08:38,862 [INFO] 100%|##########| 2/2 [01:46<00:00, 50.94s/it]\n",
      "2024-04-17 00:08:38,864 [INFO] 100%|##########| 2/2 [01:46<00:00, 53.42s/it]\n",
      "2024-04-17 00:08:38,864 [INFO] >>>> TOTAL TIME 106.85 sec\n"
     ]
    }
   ],
   "source": [
    "io.logger_setup()\n",
    "\n",
    "# model_type='cyto' or 'nuclei' or 'cyto2' or 'cyto3'\n",
    "model = models.Cellpose(model_type='cyto3')\n",
    "\n",
    "# list of files\n",
    "# PUT PATH TO YOUR FILES HERE!\n",
    "dirpath = os.getcwd()\n",
    "\n",
    "files = os.listdir(dirpath+'/Images')\n",
    "for file in files:\n",
    "    if file[0] == '.':\n",
    "        files.remove(file)\n",
    "\n",
    "imgs = [imread(dirpath+'/Images/'+f) for f in files]\n",
    "\n",
    "# define CHANNELS to run segementation on\n",
    "# grayscale=0, R=1, G=2, B=3\n",
    "# channels = [cytoplasm, nucleus]. We use grayscale images so set out channels to 0,0\n",
    "channels = [0,0]\n",
    "# IF ALL YOUR IMAGES ARE THE SAME TYPE, you can give a list with 2 elements\n",
    "# channels = [0,0] # IF YOU HAVE GRAYSCALE\n",
    "# channels = [2,3] # IF YOU HAVE G=cytoplasm and B=nucleus\n",
    "# channels = [2,1] # IF YOU HAVE G=cytoplasm and R=nucleus\n",
    "\n",
    "# if diameter is set to None, the size of the cells is estimated on a per image basis\n",
    "# you can set the average cell `diameter` in pixels yourself (recommended) -- For our purposes we\n",
    "# will need all the images to be about as zoomed in as each other, and then manually set the diameter\n",
    "# diameter can be a list or a single number for all images\n",
    "\n",
    "masks, flows, styles, diams = model.eval(imgs, diameter=None, channels=channels)"
   ]
  },
  {
   "cell_type": "code",
   "execution_count": 41,
   "metadata": {
    "id": "awmmbFpADnEi"
   },
   "outputs": [],
   "source": [
    "import shutil\n",
    "\n",
    "if os.path.isdir(dirpath+'/model_predictions'):\n",
    "    shutil.rmtree(dirpath+'/model_predictions')\n",
    "    os.mkdir(dirpath+'/model_predictions')\n",
    "else:\n",
    "  os.mkdir(dirpath+'/model_predictions')\n",
    "    \n",
    "os.chdir(dirpath+'/model_predictions')\n",
    "\n",
    "io.masks_flows_to_seg(imgs, masks, flows, dirpath+'dragana_email_photos_seg.npy', channels=channels, diams=diams)\n",
    "io.save_masks(imgs, masks, flows, files, png=True)"
   ]
  },
  {
   "cell_type": "code",
   "execution_count": null,
   "metadata": {
    "id": "QD_zl_SoGcz8"
   },
   "outputs": [],
   "source": [
    "plt.imshow(imgs[1])"
   ]
  },
  {
   "cell_type": "code",
   "execution_count": 35,
   "metadata": {
    "colab": {
     "base_uri": "https://localhost:8080/"
    },
    "id": "icj8R7OkxyEp",
    "outputId": "ab0041a7-01ce-4201-f834-3e834c28365e"
   },
   "outputs": [
    {
     "data": {
      "text/plain": [
       "'/Users/sarce/Desktop/repos/cellular segmentation/model_predictions'"
      ]
     },
     "execution_count": 35,
     "metadata": {},
     "output_type": "execute_result"
    }
   ],
   "source": [
    "os.getcwd()"
   ]
  },
  {
   "cell_type": "markdown",
   "metadata": {},
   "source": [
    "# Now we get the number of ROIS per image and store it"
   ]
  },
  {
   "cell_type": "code",
   "execution_count": 42,
   "metadata": {
    "colab": {
     "base_uri": "https://localhost:8080/",
     "height": 162
    },
    "id": "CRi55aGvMGSe",
    "outputId": "6114261d-6a24-4e92-ec70-c5c6b00f37f6"
   },
   "outputs": [
    {
     "name": "stdout",
     "output_type": "stream",
     "text": [
      "CSV file saved successfully.\n"
     ]
    }
   ],
   "source": [
    "num_rois_list = []\n",
    "for mask in masks:\n",
    "    num_rois_list.append(np.max(mask))\n",
    "\n",
    "import pandas as pd\n",
    "\n",
    "# Sample transposed list of lists\n",
    "data = [files, num_rois_list]\n",
    "\n",
    "# Transpose the list of lists\n",
    "transposed_data = list(map(list, zip(*data)))\n",
    "\n",
    "# Convert transposed list of lists to a DataFrame\n",
    "df = pd.DataFrame(transposed_data)\n",
    "\n",
    "# Specify the file path to save the CSV file\n",
    "csv_file_path = 'num_cells.csv'\n",
    "\n",
    "# Save DataFrame to CSV file\n",
    "df.to_csv(csv_file_path, index=False)\n",
    "\n",
    "print(\"CSV file saved successfully.\")"
   ]
  },
  {
   "cell_type": "code",
   "execution_count": 46,
   "metadata": {},
   "outputs": [
    {
     "name": "stdout",
     "output_type": "stream",
     "text": [
      "/opt/anaconda3/bin/conda\n"
     ]
    }
   ],
   "source": []
  },
  {
   "cell_type": "code",
   "execution_count": 44,
   "metadata": {},
   "outputs": [],
   "source": [
    "!conda list -e > requirements_checkpoint.txt"
   ]
  },
  {
   "cell_type": "code",
   "execution_count": null,
   "metadata": {},
   "outputs": [],
   "source": []
  }
 ],
 "metadata": {
  "colab": {
   "provenance": []
  },
  "kernelspec": {
   "display_name": "Python 3 (ipykernel)",
   "language": "python",
   "name": "python3"
  },
  "language_info": {
   "codemirror_mode": {
    "name": "ipython",
    "version": 3
   },
   "file_extension": ".py",
   "mimetype": "text/x-python",
   "name": "python",
   "nbconvert_exporter": "python",
   "pygments_lexer": "ipython3",
   "version": "3.12.3"
  }
 },
 "nbformat": 4,
 "nbformat_minor": 4
}
